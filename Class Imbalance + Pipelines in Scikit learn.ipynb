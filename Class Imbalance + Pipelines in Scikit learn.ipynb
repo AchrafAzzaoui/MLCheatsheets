{
 "cells": [
  {
   "cell_type": "code",
   "execution_count": 4,
   "id": "2ba4a192",
   "metadata": {},
   "outputs": [
    {
     "name": "stderr",
     "output_type": "stream",
     "text": [
      "C:\\Users\\achra\\anaconda3\\Lib\\site-packages\\pandas\\core\\arrays\\masked.py:60: UserWarning: Pandas requires version '1.3.6' or newer of 'bottleneck' (version '1.3.5' currently installed).\n",
      "  from pandas.core import (\n"
     ]
    }
   ],
   "source": [
    "import pandas as pd\n",
    "import numpy as np\n",
    "import matplotlib.pyplot as plt"
   ]
  },
  {
   "cell_type": "code",
   "execution_count": 6,
   "id": "8d369c4b",
   "metadata": {},
   "outputs": [],
   "source": [
    "df = pd.read_csv(r\"C:\\Users\\achra\\Downloads\\credit_dataset.csv\\credit_dataset.csv\")"
   ]
  },
  {
   "cell_type": "code",
   "execution_count": 7,
   "id": "50f691a8",
   "metadata": {},
   "outputs": [],
   "source": [
    "df.drop(labels = ['Unnamed: 0','ID'], axis =1, inplace= True)"
   ]
  },
  {
   "cell_type": "code",
   "execution_count": 8,
   "id": "d9ff2f5e",
   "metadata": {},
   "outputs": [
    {
     "data": {
      "image/png": "[encoded data removed]",
      "text/plain": [
       "<Figure size 640x480 with 1 Axes>"
      ]
     },
     "metadata": {},
     "output_type": "display_data"
    }
   ],
   "source": [
    "plt.bar(df['TARGET'].value_counts().index, df['TARGET'].value_counts().values)\n",
    "plt.xticks(ticks=[0, 1], labels=['0', '1'])\n",
    "plt.show()"
   ]
  },
  {
   "cell_type": "code",
   "execution_count": 67,
   "id": "e8c746e7",
   "metadata": {},
   "outputs": [
    {
     "name": "stdout",
     "output_type": "stream",
     "text": [
      "0.9631987268748756\n",
      "0.16778523489932887\n",
      "0.29069767441860467\n",
      "0.2127659574468085\n",
      "True Positives: 25\n",
      "False Positives: 124\n",
      "True Negatives: 4817\n",
      "False Negatives: 61\n"
     ]
    }
   ],
   "source": [
    "#!pip install imbalanced-learn\n",
    "from sklearn.model_selection import train_test_split\n",
    "from xgboost import XGBClassifier\n",
    "from sklearn.metrics import accuracy_score, precision_score, recall_score, f1_score, confusion_matrix\n",
    "from sklearn.impute import SimpleImputer\n",
    "from sklearn.preprocessing import OneHotEncoder, StandardScaler\n",
    "from sklearn.decomposition import PCA\n",
    "from sklearn.model_selection import train_test_split\n",
    "from sklearn.pipeline import Pipeline\n",
    "from sklearn.compose import ColumnTransformer\n",
    "#import imbalanced-learn\n",
    "X = df.drop(labels = 'TARGET', axis = 1)\n",
    "y = df['TARGET']\n",
    "\n",
    "\n",
    "categorical_columns = [column for column in X.columns if X[column].dtype == 'object']\n",
    "numeric_columns = [column for column in X.columns if X[column].dtype in ('int64', 'float64')]\n",
    "\n",
    "numeric_transformer = SimpleImputer(strategy = 'median')\n",
    "\n",
    "categorical_transformer = Pipeline(steps = [\n",
    "    ('imputer', SimpleImputer(strategy = 'constant', fill_value = 'missing')),\n",
    "    ('onehotencoder', OneHotEncoder(handle_unknown= 'ignore'))\n",
    "])\n",
    "\n",
    "preprocessor = ColumnTransformer(\n",
    "    transformers = [\n",
    "        ('num', numeric_transformer, numeric_columns),\n",
    "        ('cat', categorical_transformer, categorical_columns)\n",
    "    ]\n",
    ")\n",
    "\n",
    "full_pipeline = Pipeline([\n",
    "    ('preprocessor', preprocessor)\n",
    "])\n",
    "\n",
    "X_processed = full_pipeline.fit_transform(X)\n",
    "feature_names = (numeric_columns + \n",
    "                 full_pipeline.named_steps['preprocessor']\n",
    "                 .named_transformers_['cat']\n",
    "                 .named_steps['onehotencoder']\n",
    "                 .get_feature_names_out(categorical_columns).tolist())\n",
    "X_processed_df = pd.DataFrame(X_processed, columns = feature_names)\n",
    "\n",
    "X_train, X_test, y_train, y_test = train_test_split(X_processed_df, y, train_size = 0.8, random_state = 42)\n",
    "neg_pos_ratio = sum(y_train == 0) / sum(y_train == 1)\n",
    "model = XGBClassifier(scale_pos_weight=neg_pos_ratio)\n",
    "model.fit(X_train,y_train)\n",
    "predictions = model.predict(X_test)\n",
    "print(accuracy_score(y_test, predictions))\n",
    "print(precision_score(y_test,predictions))\n",
    "print(recall_score(y_test,predictions))\n",
    "print(f1_score(y_test,predictions))\n",
    "cm = confusion_matrix(y_test, predictions)\n",
    "\n",
    "tn, fp, fn, tp = cm.ravel()\n",
    "\n",
    "print(f\"True Positives: {tp}\")\n",
    "print(f\"False Positives: {fp}\")\n",
    "print(f\"True Negatives: {tn}\")\n",
    "print(f\"False Negatives: {fn}\")\n",
    "#model = XGBClassifier()\n",
    "#model.fit(X_train, y_train)\n"
   ]
  },
  {
   "cell_type": "markdown",
   "id": "cbd4768f",
   "metadata": {},
   "source": [
    "## Metrics without class imbalance treatment\n",
    "#### Train Set\n",
    "    Accuracy: 99.2%\n",
    "    Precision: 99.44%\n",
    "    Recall: 52.68%\n",
    "    f1_score: 68.87%\n",
    "#### Test Set\n",
    "    Accuracy: 98.23%\n",
    "    Precision: 42.11%\n",
    "    Recall: 9.30%\n",
    "    f1_score: 15.24%\n",
    "    \n",
    "    True Positives: 8\n",
    "    False Positives: 11\n",
    "    True Negatives: 4930\n",
    "    False Negatives: 78\n"
   ]
  },
  {
   "cell_type": "markdown",
   "id": "06a28591",
   "metadata": {},
   "source": [
    "# Naive Oversampling"
   ]
  },
  {
   "cell_type": "code",
   "execution_count": 29,
   "id": "7308989a",
   "metadata": {},
   "outputs": [
    {
     "name": "stdout",
     "output_type": "stream",
     "text": [
      "Train Set\n",
      "0.9917050225077133\n",
      "0.9836807801383154\n",
      "1.0\n",
      "0.9917732631050916\n",
      "Test Set\n",
      "0.9635965784762284\n",
      "0.145985401459854\n",
      "0.23255813953488372\n",
      "0.179372197309417\n",
      "True Positives: 20\n",
      "False Positives: 117\n",
      "True Negatives: 4824\n",
      "False Negatives: 66\n"
     ]
    }
   ],
   "source": [
    "from imblearn.over_sampling import RandomOverSampler\n",
    "import sklearn\n",
    "import imblearn\n",
    "from imblearn.over_sampling import RandomOverSampler\n",
    "ros = RandomOverSampler(random_state=0)\n",
    "X_train_random_oversampled, y_train_random_oversampled = ros.fit_resample(X_train, y_train)\n",
    "model.fit(X_train_random_oversampled, y_train_random_oversampled)\n",
    "print('Train Set')\n",
    "random_oversampled_train_predictions = model.predict(X_train_random_oversampled)\n",
    "print(accuracy_score(y_train_random_oversampled, random_oversampled_train_predictions))\n",
    "print(precision_score(y_train_random_oversampled,random_oversampled_train_predictions))\n",
    "print(recall_score(y_train_random_oversampled,random_oversampled_train_predictions))\n",
    "print(f1_score(y_train_random_oversampled,random_oversampled_train_predictions))\n",
    "\n",
    "print('Test Set')\n",
    "\n",
    "random_oversampled_test_predictions = model.predict(X_test)\n",
    "print(accuracy_score(y_test, random_oversampled_test_predictions))\n",
    "print(precision_score(y_test,random_oversampled_test_predictions))\n",
    "print(recall_score(y_test,random_oversampled_test_predictions))\n",
    "print(f1_score(y_test,random_oversampled_test_predictions))\n",
    "\n",
    "cm_random_oversampling = confusion_matrix(y_test, random_oversampled_test_predictions)\n",
    "\n",
    "tn_ros, fp_ros, fn_ros, tp_ros = cm_random_oversampling.ravel()\n",
    "\n",
    "print(f\"True Positives: {tp_ros}\")\n",
    "print(f\"False Positives: {fp_ros}\")\n",
    "print(f\"True Negatives: {tn_ros}\")\n",
    "print(f\"False Negatives: {fn_ros}\")"
   ]
  },
  {
   "cell_type": "markdown",
   "id": "baedd707",
   "metadata": {},
   "source": [
    "## Metrics with Random Oversampling\n",
    "#### Train Set\n",
    "    Accuracy: 99.2%\n",
    "    Precision: 98.44%\n",
    "    Recall: 100%\n",
    "    f1_score: 99.2%%\n",
    "#### Test Set\n",
    "    Accuracy: 98.23%\n",
    "    Precision: 14.59%\n",
    "    Recall: 23.26%\n",
    "    f1_score: 17.94%\n",
    "    \n",
    "    True Positives: 20\n",
    "    False Positives: 117\n",
    "    True Negatives: 4824\n",
    "    False Negatives: 66"
   ]
  },
  {
   "cell_type": "markdown",
   "id": "01ffad41",
   "metadata": {},
   "source": [
    "# Naive Undersampling"
   ]
  },
  {
   "cell_type": "code",
   "execution_count": 35,
   "id": "19b42ed3",
   "metadata": {},
   "outputs": [
    {
     "name": "stdout",
     "output_type": "stream",
     "text": [
      "Train Set\n",
      "Accuracy: 0.9985119047619048\n",
      "Precision: 1.0\n",
      "Recall: 0.9970238095238095\n",
      "F1 Score: 0.9985096870342772\n",
      "Test Set\n",
      "Accuracy: 0.6202506465088522\n",
      "Precision: 0.03184386235233693\n",
      "Recall: 0.7209302325581395\n",
      "F1 Score: 0.06099360550909985\n",
      "True Positives: 62\n",
      "False Positives: 1885\n",
      "True Negatives: 3056\n",
      "False Negatives: 24\n"
     ]
    }
   ],
   "source": [
    "from imblearn.under_sampling import RandomUnderSampler\n",
    "rus = RandomUnderSampler(random_state=0)\n",
    "X_train_random_undersampled, y_train_random_undersampled = rus.fit_resample(X_train, y_train)\n",
    "\n",
    "model.fit(X_train_random_undersampled, y_train_random_undersampled)\n",
    "\n",
    "print('Train Set')\n",
    "random_undersampled_train_predictions = model.predict(X_train_random_undersampled)\n",
    "print(f\"Accuracy: {accuracy_score(y_train_random_undersampled, random_undersampled_train_predictions)}\")\n",
    "print(f\"Precision: {precision_score(y_train_random_undersampled, random_undersampled_train_predictions)}\")\n",
    "print(f\"Recall: {recall_score(y_train_random_undersampled, random_undersampled_train_predictions)}\")\n",
    "print(f\"F1 Score: {f1_score(y_train_random_undersampled, random_undersampled_train_predictions)}\")\n",
    "\n",
    "print('Test Set')\n",
    "random_undersampled_test_predictions = model.predict(X_test)\n",
    "print(f\"Accuracy: {accuracy_score(y_test, random_undersampled_test_predictions)}\")\n",
    "print(f\"Precision: {precision_score(y_test, random_undersampled_test_predictions)}\")\n",
    "print(f\"Recall: {recall_score(y_test, random_undersampled_test_predictions)}\")\n",
    "print(f\"F1 Score: {f1_score(y_test, random_undersampled_test_predictions)}\")\n",
    "\n",
    "cm_random_undersampling = confusion_matrix(y_test, random_undersampled_test_predictions)\n",
    "\n",
    "tn_rus, fp_rus, fn_rus, tp_rus = cm_random_undersampling.ravel()\n",
    "\n",
    "# Print the confusion matrix statistics\n",
    "print(f\"True Positives: {tp_rus}\")\n",
    "print(f\"False Positives: {fp_rus}\")\n",
    "print(f\"True Negatives: {tn_rus}\")\n",
    "print(f\"False Negatives: {fn_rus}\")"
   ]
  },
  {
   "cell_type": "markdown",
   "id": "62c7feb3",
   "metadata": {},
   "source": [
    "## Metrics with Random Undersampling\n",
    "#### Train Set\n",
    "    Accuracy: 99.85%\n",
    "    Precision: 100%\n",
    "    Recall: 99.7%\n",
    "    f1_score: 99.8%%\n",
    "#### Test Set\n",
    "    Accuracy: 62.03%\n",
    "    Precision: 3.18%\n",
    "    Recall: 72.1%\n",
    "    f1_score: 6.1%\n",
    "    \n",
    "    True Positives: 62\n",
    "    False Positives: 1885\n",
    "    True Negatives: 3056\n",
    "    False Negatives: 24"
   ]
  },
  {
   "cell_type": "markdown",
   "id": "7e8be233",
   "metadata": {},
   "source": [
    "# SMOTE"
   ]
  },
  {
   "cell_type": "code",
   "execution_count": 55,
   "id": "29b82e8d",
   "metadata": {},
   "outputs": [
    {
     "name": "stdout",
     "output_type": "stream",
     "text": [
      "Train Set\n",
      "0.9952708512467756\n",
      "0.9979151835655447\n",
      "0.9926154468666228\n",
      "0.9952582600096356\n",
      "Test Set\n",
      "0.9814999005370997\n",
      "0.34782608695652173\n",
      "0.09302325581395349\n",
      "0.14678899082568808\n",
      "True Positives: 8\n",
      "False Positives: 15\n",
      "True Negatives: 4926\n",
      "False Negatives: 78\n"
     ]
    }
   ],
   "source": [
    "from imblearn.over_sampling import SMOTE\n",
    "sm = SMOTE(sampling_strategy = 1, random_state=42)\n",
    "\n",
    "X_train_SMOTE, y_train_SMOTE = sm.fit_resample(X_train, y_train)\n",
    "model.fit(X_train_SMOTE, y_train_SMOTE)\n",
    "print('Train Set')\n",
    "SMOTE_train_predictions = model.predict(X_train_SMOTE)\n",
    "print(accuracy_score(y_train_SMOTE, SMOTE_train_predictions))\n",
    "print(precision_score(y_train_SMOTE,SMOTE_train_predictions))\n",
    "print(recall_score(y_train_SMOTE,SMOTE_train_predictions))\n",
    "print(f1_score(y_train_SMOTE,SMOTE_train_predictions))\n",
    "\n",
    "print('Test Set')\n",
    "\n",
    "SMOTE_test_predictions = model.predict(X_test)\n",
    "print(accuracy_score(y_test, SMOTE_test_predictions))\n",
    "print(precision_score(y_test,SMOTE_test_predictions))\n",
    "print(recall_score(y_test,SMOTE_test_predictions))\n",
    "print(f1_score(y_test,SMOTE_test_predictions))\n",
    "\n",
    "cm_SMOTE = confusion_matrix(y_test, SMOTE_test_predictions)\n",
    "\n",
    "tn_SMOTE, fp_SMOTE, fn_SMOTE, tp_SMOTE = cm_SMOTE.ravel()\n",
    "\n",
    "print(f\"True Positives: {tp_SMOTE}\")\n",
    "print(f\"False Positives: {fp_SMOTE}\")\n",
    "print(f\"True Negatives: {tn_SMOTE}\")\n",
    "print(f\"False Negatives: {fn_SMOTE}\")"
   ]
  },
  {
   "cell_type": "markdown",
   "id": "62a3224a",
   "metadata": {},
   "source": [
    "## Metrics with SMOTE\n",
    "#### Train Set\n",
    "    Accuracy: 99.52%\n",
    "    Precision: 99.79%\n",
    "    Recall: 99.26%\n",
    "    f1_score: 99.52%\n",
    "#### Test Set\n",
    "    Accuracy: 98.15%\n",
    "    Precision: 34.78%\n",
    "    Recall: 9.31%\n",
    "    f1_score: 14.67%\n",
    "    \n",
    "    True Positives: 8\n",
    "    False Positives: 15\n",
    "    True Negatives: 4926\n",
    "    False Negatives: 78"
   ]
  },
  {
   "cell_type": "markdown",
   "id": "40d42717",
   "metadata": {},
   "source": [
    "# ADASYN"
   ]
  },
  {
   "cell_type": "code",
   "execution_count": 68,
   "id": "dfc13207",
   "metadata": {},
   "outputs": [
    {
     "name": "stdout",
     "output_type": "stream",
     "text": [
      "Train Set\n",
      "0.9840897582815873\n",
      "0.9674641669845768\n",
      "1.0\n",
      "0.9834630619650425\n",
      "Test Set\n",
      "0.9480803660234732\n",
      "0.13389121338912133\n",
      "0.37209302325581395\n",
      "0.1969230769230769\n",
      "True Positives: 32\n",
      "False Positives: 207\n",
      "True Negatives: 4734\n",
      "False Negatives: 54\n"
     ]
    }
   ],
   "source": [
    "from imblearn.over_sampling import ADASYN\n",
    "\n",
    "adasyn = ADASYN(sampling_strategy = 0.9,random_state=42)\n",
    "\n",
    "X_train_ADASYN, y_train_ADASYN = adasyn.fit_resample(X_train, y_train)\n",
    "model.fit(X_train_ADASYN, y_train_ADASYN)\n",
    "\n",
    "print('Train Set')\n",
    "ADASYN_train_predictions = model.predict(X_train_ADASYN)\n",
    "print(accuracy_score(y_train_ADASYN, ADASYN_train_predictions))\n",
    "print(precision_score(y_train_ADASYN, ADASYN_train_predictions))\n",
    "print(recall_score(y_train_ADASYN, ADASYN_train_predictions))\n",
    "print(f1_score(y_train_ADASYN, ADASYN_train_predictions))\n",
    "\n",
    "print('Test Set')\n",
    "ADASYN_test_predictions = model.predict(X_test)\n",
    "print(accuracy_score(y_test, ADASYN_test_predictions))\n",
    "print(precision_score(y_test, ADASYN_test_predictions))\n",
    "print(recall_score(y_test, ADASYN_test_predictions))\n",
    "print(f1_score(y_test, ADASYN_test_predictions))\n",
    "\n",
    "cm_ADASYN = confusion_matrix(y_test, ADASYN_test_predictions)\n",
    "\n",
    "tn_ADASYN, fp_ADASYN, fn_ADASYN, tp_ADASYN = cm_ADASYN.ravel()\n",
    "\n",
    "print(f\"True Positives: {tp_ADASYN}\")\n",
    "print(f\"False Positives: {fp_ADASYN}\")\n",
    "print(f\"True Negatives: {tn_ADASYN}\")\n",
    "print(f\"False Negatives: {fn_ADASYN}\")"
   ]
  },
  {
   "cell_type": "markdown",
   "id": "50a9196d",
   "metadata": {},
   "source": [
    "## Metrics with ADASYN\n",
    "#### Train Set\n",
    "    Accuracy: 99.54%\n",
    "    Precision: 99.80%\n",
    "    Recall: 99.28%\n",
    "    f1_score: 99.54%\n",
    "#### Test Set\n",
    "    Accuracy: 98.23%\n",
    "    Precision: 44.00%\n",
    "    Recall: 12.79%\n",
    "    f1_score: 19.82%\n",
    "    \n",
    "    True Positives: 11\n",
    "    False Positives: 14\n",
    "    True Negatives: 4927\n",
    "    False Negatives: 75"
   ]
  },
  {
   "cell_type": "markdown",
   "id": "fcb83895",
   "metadata": {},
   "source": [
    "# Tomek Links"
   ]
  },
  {
   "cell_type": "code",
   "execution_count": 69,
   "id": "fa5958a9",
   "metadata": {},
   "outputs": [
    {
     "name": "stdout",
     "output_type": "stream",
     "text": [
      "Train Set\n",
      "0.9871980797119568\n",
      "0.5675675675675675\n",
      "1.0\n",
      "0.7241379310344828\n",
      "Test Set\n",
      "0.9643922816789338\n",
      "0.17482517482517482\n",
      "0.29069767441860467\n",
      "0.21834061135371177\n",
      "True Positives: 25\n",
      "False Positives: 118\n",
      "True Negatives: 4823\n",
      "False Negatives: 61\n"
     ]
    }
   ],
   "source": [
    "from imblearn.under_sampling import TomekLinks\n",
    "\n",
    "tomek = TomekLinks()\n",
    "\n",
    "X_train_tomek, y_train_tomek = tomek.fit_resample(X_train, y_train)\n",
    "model.fit(X_train_tomek, y_train_tomek)\n",
    "\n",
    "print('Train Set')\n",
    "tomek_train_predictions = model.predict(X_train_tomek)\n",
    "print(accuracy_score(y_train_tomek, tomek_train_predictions))\n",
    "print(precision_score(y_train_tomek, tomek_train_predictions))\n",
    "print(recall_score(y_train_tomek, tomek_train_predictions))\n",
    "print(f1_score(y_train_tomek, tomek_train_predictions))\n",
    "\n",
    "print('Test Set')\n",
    "tomek_test_predictions = model.predict(X_test)\n",
    "print(accuracy_score(y_test, tomek_test_predictions))\n",
    "print(precision_score(y_test, tomek_test_predictions))\n",
    "print(recall_score(y_test, tomek_test_predictions))\n",
    "print(f1_score(y_test, tomek_test_predictions))\n",
    "\n",
    "cm_tomek = confusion_matrix(y_test, tomek_test_predictions)\n",
    "\n",
    "tn_tomek, fp_tomek, fn_tomek, tp_tomek = cm_tomek.ravel()\n",
    "\n",
    "print(f\"True Positives: {tp_tomek}\")\n",
    "print(f\"False Positives: {fp_tomek}\")\n",
    "print(f\"True Negatives: {tn_tomek}\")\n",
    "print(f\"False Negatives: {fn_tomek}\")\n"
   ]
  },
  {
   "cell_type": "markdown",
   "id": "508dfbfb",
   "metadata": {},
   "source": [
    "## Metrics with Tomek Links\n",
    "#### Train Set\n",
    "    Accuracy: 99.23%\n",
    "    Precision: 100.00%\n",
    "    Recall: 54.46%\n",
    "    f1_score: 70.52%\n",
    "#### Test Set\n",
    "    Accuracy: 98.29%\n",
    "    Precision: 50.00%\n",
    "    Recall: 9.30%\n",
    "    f1_score: 15.69%\n",
    "    \n",
    "    True Positives: 8\n",
    "    False Positives: 8\n",
    "    True Negatives: 4933\n",
    "    False Negatives: 78"
   ]
  }
 ],
 "metadata": {
  "kernelspec": {
   "display_name": "Python 3 (ipykernel)",
   "language": "python",
   "name": "python3"
  },
  "language_info": {
   "codemirror_mode": {
    "name": "ipython",
    "version": 3
   },
   "file_extension": ".py",
   "mimetype": "text/x-python",
   "name": "python",
   "nbconvert_exporter": "python",
   "pygments_lexer": "ipython3",
   "version": "3.11.4"
  }
 },
 "nbformat": 4,
 "nbformat_minor": 5
}
